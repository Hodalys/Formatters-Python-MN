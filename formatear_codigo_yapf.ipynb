{
 "cells": [
  {
   "cell_type": "markdown",
   "metadata": {},
   "source": [
    "## Formateador de código YAPF"
   ]
  },
  {
   "cell_type": "code",
   "execution_count": 3,
   "metadata": {},
   "outputs": [],
   "source": [
    "# Este es el ejemplo de código antes de aplicar el formato\n",
    "x = {  'a':37,'b':42,\n",
    "\n",
    "'c':927}\n",
    "\n",
    "y = 'hello ''world'\n",
    "z = 'hello '+'world'\n",
    "a = 'hello {}'.format('world')\n",
    "class foo  (     object  ):\n",
    "  def f    (self   ):\n",
    "    return       37*-+2\n",
    "  def g(self, x,y=42):\n",
    "      return y\n",
    "def f  (   a ) :\n",
    "  return      37+-+a[42-x :  y**3]"
   ]
  },
  {
   "cell_type": "code",
   "execution_count": 2,
   "metadata": {},
   "outputs": [],
   "source": [
    "# # Demostración de formateo del código con yapf\n",
    "x = {'a': 37, 'b': 42, 'c': 927}\n",
    "\n",
    "y = 'hello ' 'world'\n",
    "z = 'hello ' + 'world'\n",
    "a = 'hello {}'.format('world')\n",
    "\n",
    "\n",
    "class foo(object):\n",
    "\n",
    "    def f(self):\n",
    "        return 37 * -+2\n",
    "\n",
    "    def g(self, x, y=42):\n",
    "        return y\n",
    "\n",
    "\n",
    "def f(a):\n",
    "    return 37 + -+a[42 - x:y**3]"
   ]
  }
 ],
 "metadata": {
  "kernelspec": {
   "display_name": "Python 3",
   "language": "python",
   "name": "python3"
  },
  "language_info": {
   "codemirror_mode": {
    "name": "ipython",
    "version": 3
   },
   "file_extension": ".py",
   "mimetype": "text/x-python",
   "name": "python",
   "nbconvert_exporter": "python",
   "pygments_lexer": "ipython3",
   "version": "3.13.0"
  }
 },
 "nbformat": 4,
 "nbformat_minor": 2
}
