{
 "cells": [
  {
   "cell_type": "markdown",
   "metadata": {},
   "source": [
    "## Formateador de código Black"
   ]
  },
  {
   "cell_type": "code",
   "execution_count": 6,
   "metadata": {},
   "outputs": [
    {
     "name": "stdout",
     "output_type": "stream",
     "text": [
      "arreglo =  [[0 0 0 0 0 0]\n",
      " [0 0 0 0 0 0]] \n",
      "\n",
      " list numeros =  [1, 4, 2, 3] \n",
      "\n",
      " puntajes =  {'Edward': 2, 'Daniela': 3, '   Oliva': 5} \n",
      "\n"
     ]
    }
   ],
   "source": [
    "# Este se usará como ejemplo antes de aplicar los diferentes tipos de formateadores black y autopep8\n",
    "import numpy\n",
    "\n",
    "numeros = [1,\n",
    "                    4,\n",
    "                2,\n",
    "           3]\n",
    "\n",
    "puntajes = {\"Edward\": 2,\n",
    "                    \"Daniela\": 3,\n",
    "            \"   Oliva\": 5}\n",
    "\n",
    "arreglo = numpy.    zeros(\n",
    "    (2, \n",
    "        6),\n",
    "\n",
    "    dtype=numpy.int64)\n",
    "\n",
    "print(\n",
    "    \"arreglo = \",  arreglo,     \"\\n\\n\",\n",
    "\n",
    "    \"list numeros = \",      numeros, \"\\n\\n\",\n",
    "\n",
    "    \"puntajes = \",\n",
    "    puntajes,\n",
    "    \"\\n\",\n",
    ")"
   ]
  },
  {
   "cell_type": "code",
   "execution_count": null,
   "metadata": {},
   "outputs": [
    {
     "name": "stdout",
     "output_type": "stream",
     "text": [
      "arreglo =  [[0 0 0 0 0 0]\n",
      " [0 0 0 0 0 0]] \n",
      "\n",
      " list numeros =  [1, 4, 2, 3] \n",
      "\n",
      " puntajes =  {'Edward': 2, 'Daniela': 3, 'Oliva': 5} \n",
      "\n"
     ]
    }
   ],
   "source": [
    "# Demostración de formateo del código con black\n",
    "import numpy\n",
    "\n",
    "numeros = [1, 4, 2, 3]\n",
    "\n",
    "puntajes = {\"Edward\": 2, \"Daniela\": 3, \"Oliva\": 5}\n",
    "\n",
    "arreglo = numpy.zeros((2, 6), dtype=numpy.int64)\n",
    "\n",
    "print(\n",
    "    \"arreglo = \",\n",
    "    arreglo,\n",
    "    \"\\n\\n\",\n",
    "    \"list numeros = \",\n",
    "    numeros,\n",
    "    \"\\n\\n\",\n",
    "    \"puntajes = \",\n",
    "    puntajes,\n",
    "    \"\\n\",\n",
    ")"
   ]
  }
 ],
 "metadata": {
  "kernelspec": {
   "display_name": "Python 3",
   "language": "python",
   "name": "python3"
  },
  "language_info": {
   "codemirror_mode": {
    "name": "ipython",
    "version": 3
   },
   "file_extension": ".py",
   "mimetype": "text/x-python",
   "name": "python",
   "nbconvert_exporter": "python",
   "pygments_lexer": "ipython3",
   "version": "3.13.0"
  }
 },
 "nbformat": 4,
 "nbformat_minor": 2
}
