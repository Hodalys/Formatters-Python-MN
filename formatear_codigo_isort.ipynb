{
 "cells": [
  {
   "cell_type": "markdown",
   "metadata": {},
   "source": [
    "## Formateador de código isort"
   ]
  },
  {
   "cell_type": "code",
   "execution_count": null,
   "metadata": {},
   "outputs": [],
   "source": [
    "from my_lib import Object\n",
    "\n",
    "import os\n",
    "\n",
    "from my_lib import Object3\n",
    "\n",
    "from my_lib import Object2\n",
    "\n",
    "import sys\n",
    "\n",
    "from third_party import lib15, lib1, lib2, lib3, lib4, lib5, lib6, lib7, lib8, lib9, lib10, lib11, lib12, lib13, lib14\n",
    "\n",
    "import sys\n",
    "\n",
    "from __future__ import absolute_import\n",
    "\n",
    "from third_party import lib3\n",
    "\n",
    "print(\"Hey\")\n",
    "print(\"yo\")"
   ]
  },
  {
   "cell_type": "code",
   "execution_count": null,
   "metadata": {},
   "outputs": [],
   "source": [
    "# Demostración de formateo del código con isort\n",
    "from __future__ import absolute_import\n",
    "\n",
    "import os\n",
    "import sys\n",
    "\n",
    "from my_lib import Object, Object2, Object3\n",
    "from third_party import (lib1, lib2, lib3, lib4, lib5, lib6, lib7, lib8, lib9,\n",
    "                         lib10, lib11, lib12, lib13, lib14, lib15)\n",
    "\n",
    "print(\"Hey\")\n",
    "print(\"yo\")"
   ]
  }
 ],
 "metadata": {
  "kernelspec": {
   "display_name": "Python 3",
   "language": "python",
   "name": "python3"
  },
  "language_info": {
   "codemirror_mode": {
    "name": "ipython",
    "version": 3
   },
   "file_extension": ".py",
   "mimetype": "text/x-python",
   "name": "python",
   "nbconvert_exporter": "python",
   "pygments_lexer": "ipython3",
   "version": "3.13.0"
  }
 },
 "nbformat": 4,
 "nbformat_minor": 2
}
